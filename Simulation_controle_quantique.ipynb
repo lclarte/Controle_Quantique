{
  "nbformat": 4,
  "nbformat_minor": 0,
  "metadata": {
    "colab": {
      "name": "Simulation_controle_quantique.ipynb",
      "version": "0.3.2",
      "provenance": [],
      "collapsed_sections": [],
      "include_colab_link": true
    },
    "kernelspec": {
      "name": "python3",
      "display_name": "Python 3"
    }
  },
  "cells": [
    {
      "cell_type": "markdown",
      "metadata": {
        "id": "view-in-github",
        "colab_type": "text"
      },
      "source": [
        "<a href=\"https://colab.research.google.com/github/lclarte/Controle_Quantique/blob/master/Simulation_controle_quantique.ipynb\" target=\"_parent\"><img src=\"https://colab.research.google.com/assets/colab-badge.svg\" alt=\"Open In Colab\"/></a>"
      ]
    },
    {
      "metadata": {
        "id": "krm4KyLd7v7H",
        "colab_type": "code",
        "colab": {}
      },
      "cell_type": "code",
      "source": [
        "import numpy as np\n",
        "from scipy.integrate import complex_ode"
      ],
      "execution_count": 0,
      "outputs": []
    },
    {
      "metadata": {
        "id": "JgWjN7rI8h-L",
        "colab_type": "text"
      },
      "cell_type": "markdown",
      "source": [
        "Nous commençons par définir la fonction pour calculer l'évolution du vecteur $ \\Phi $, en fonction de la matrice H(u, v)"
      ]
    },
    {
      "metadata": {
        "id": "t2sqSLgZAYrX",
        "colab_type": "code",
        "colab": {}
      },
      "cell_type": "code",
      "source": [
        "def U_rotation(E, delta_t, t): #Calcule la matrice de rotation Psi -> Phi\n",
        "  a = 1j * (E*t + delta_t/2)\n",
        "  return np.array([[np.exp(a), 0.0],\n",
        "                   [0.0, np.exp(-a)]])\n",
        "\n",
        "def H_u_v(alpha, E, controle): #matrice d'évolution de l'état Phi\n",
        "  u,v = controle\n",
        "  w = v/2 - (alpha - 1.0)*E\n",
        "  return np.array([[-w, u], \n",
        "                   [u, w]])\n",
        "\n",
        "def derivee_Phi(alpha, E, controle, Phi):\n",
        "  return -1j * np.dot(H_u_v(alpha, E, controle), Phi)"
      ],
      "execution_count": 0,
      "outputs": []
    },
    {
      "metadata": {
        "id": "ne0bNqzBCSVF",
        "colab_type": "code",
        "colab": {}
      },
      "cell_type": "code",
      "source": [
        "#On définit l'évolution du controle (u(t), v(t)) sous la forme d'un demi-cercle\n",
        "#(car on peut calculer analytiquement l'évolution de l'état Phi avec ce contrôle)\n",
        "\n",
        "def gamma(t): #en t = 0 : (0, -1); en t = 1 : (0, 1)\n",
        "  return (np.sin(t*np.pi), np.cos(t*np.pi))\n",
        "\n",
        "def gamma_scale(t, v_i, v_f): #change l'echelle du controle pour s'adapter aux valeurs de alpha\n",
        "  if v_i > v_f:\n",
        "    v_f, v_i = v_i, v_f\n",
        "  milieu = (v_i + v_f)/2\n",
        "  ecart = (v_f - v_i)/2 #rayon du cercle \n",
        "  g = gamma(t)\n",
        "  return (g[0]*ecart, g[1]*ecart + milieu)\n",
        "\n",
        "def contraintes_v(E, alpha_min, alpha_max): #retourne les valeurs (v_min,v_max) pour que le controle fonctionne\n",
        "  assert alpha_min < 1 and alpha_max > 1\n",
        "  return (2*(alpha_min - 1)*E, 2*(alpha_max- 1)*E) #il faut v_i < v_min, v_f > v_max"
      ],
      "execution_count": 0,
      "outputs": []
    },
    {
      "metadata": {
        "id": "I2RxpxvOCJYM",
        "colab_type": "code",
        "colab": {}
      },
      "cell_type": "code",
      "source": [
        "Phi_init = np.array([1.0, 0.0])\n",
        "Phi_cible= np.array([0.0, 1.0])\n",
        "\n",
        "def evolution_Phi(alpha, E, controle, T, N): \n",
        "  \"Prend en argument la fonction gamma qui sera l'evolution de notre controle\\\n",
        "  ainsi que l'etat initial, le temps final et le nombre de pas\\\n",
        "  on va faire une homothetie temporelle pour que gamma aille de 0 a T\"\n",
        "  liste_Phis = np.zeros((N, 2), dtype=np.complex_)\n",
        "  liste_tps = [0.0]*N\n",
        "  liste_Phis[0] = Phi_init\n",
        "  T = float(T)\n",
        "  f = lambda t, y: derivee_Phi(alpha, E, controle(t/T), y)\n",
        "  r = complex_ode(f)\n",
        "  r.set_initial_value(liste_Phis[0], liste_tps[0])\n",
        "  dt = T/(N-1)\n",
        "  k = 1\n",
        "  while r.successful() and k < N: #k < N\n",
        "    liste_tps[k] = r.t+dt\n",
        "    liste_Phis[k] = r.integrate(r.t + dt)\n",
        "    k += 1\n",
        "  return liste_tps, liste_Phis\n",
        "\n",
        "def vecteur_final(alpha, E, controle, T, N):\n",
        "  liste_tps, liste_Phis = evolution_Phi(alpha, E, controle, T, N)\n",
        "  return liste_Phis[N-1]\n",
        "\n",
        "def distance_finale(alpha, E, controle, T, N): \n",
        "  \"retourne la distance finale au vecteur (0, 1), A ROTATION PRES\"\n",
        "  vec_final = vecteur_final(alpha, E, controle, T, N)\n",
        "  a, b = vec_final[0], vec_final[1]\n",
        "  return np.absolute(a)**2 + (1-np.absolute(b))**2\n"
      ],
      "execution_count": 0,
      "outputs": []
    },
    {
      "metadata": {
        "id": "LniMkfx8D1RV",
        "colab_type": "code",
        "colab": {}
      },
      "cell_type": "code",
      "source": [
        "import matplotlib.pyplot as plt\n",
        "\n",
        "\"\"\"\n",
        "Fonctions d'affichage des resultats\n",
        "\"\"\"\n",
        "\n",
        "def afficher_evolution_Phi(liste_tps, liste_Phis):\n",
        "  plt.plot(liste_tps, np.absolute(liste_Phis[:, 0]))\n",
        "  plt.plot(liste_tps, np.absolute(liste_Phis[:, 1]))\n",
        "  plt.show()\n",
        "  \n",
        "def distances_finales_alpha(controle):\n",
        "  \"Calcule la distance de l'etat final au vecteur (0, 1) (a rotation pres) en fonction de alpha\"\n",
        "  alphas, distances = [], []\n",
        "  alpha = alpha_min\n",
        "  while alpha < alpha_max:\n",
        "    distance = distance_finale(alpha, E, controle, T, N)\n",
        "    alphas.append(alpha)\n",
        "    distances.append(distance)\n",
        "    alpha += alpha_step\n",
        "  return alphas, distances\n",
        "    \n",
        "    \n",
        "  "
      ],
      "execution_count": 0,
      "outputs": []
    },
    {
      "metadata": {
        "id": "EpQzfhTHDpCh",
        "colab_type": "code",
        "outputId": "5d698f70-1682-4c06-c3cf-c0c2711e73e2",
        "colab": {
          "base_uri": "https://localhost:8080/",
          "height": 347
        }
      },
      "cell_type": "code",
      "source": [
        "\"\"\"\n",
        "On va fixer E = 1 arbitrairement, et faire varier alpha de alpha_min = 0.5 a \n",
        "alpha_max = 1.5, et voir comment l'état final \n",
        "\"\"\"\n",
        "\n",
        "alpha_min = 0.5\n",
        "alpha_max = 1.5\n",
        "alpha_step = 0.05\n",
        "\n",
        "E = 1\n",
        "\n",
        "T = 100.0\n",
        "N = 1000\n",
        "\n",
        "def main():\n",
        "  v_i, v_f = contraintes_v(E, alpha_min, alpha_max)\n",
        "  controle = lambda t: gamma_scale(t, v_i, v_f) \n",
        "  return distances_finales_alpha(controle)\n",
        "  \n",
        "  \n",
        "alphas, distances = main()\n",
        "plt.plot(alphas, distances)\n",
        "plt.show()"
      ],
      "execution_count": 0,
      "outputs": [
        {
          "output_type": "display_data",
          "data": {
            "image/png": "[encoded data removed]",
            "text/plain": [
              "<Figure size 576x396 with 1 Axes>"
            ]
          },
          "metadata": {
            "tags": []
          }
        }
      ]
    }
  ]
}